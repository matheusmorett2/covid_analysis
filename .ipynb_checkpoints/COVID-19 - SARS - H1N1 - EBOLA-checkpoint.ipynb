{
 "cells": [
  {
   "cell_type": "markdown",
   "metadata": {},
   "source": [
    "### COVID-19 - SARS - H1N1 - EBOLA \n",
    "\n",
    "In this notebook we will try to compare the actions of theses 3 virus in Brazil\n"
   ]
  },
  {
   "cell_type": "markdown",
   "metadata": {},
   "source": [
    "### Imports and utils"
   ]
  },
  {
   "cell_type": "code",
   "execution_count": 474,
   "metadata": {},
   "outputs": [],
   "source": [
    "import numpy as np\n",
    "import pandas as pd\n",
    "import matplotlib.pyplot as plt\n",
    "import matplotlib.dates as mdates\n",
    "import matplotlib.cbook as cbook\n",
    "\n",
    "final_columns = ['Date', 'Country', 'Cases', 'Deaths']\n",
    "colors = ['black', 'red', 'green', 'blue']"
   ]
  },
  {
   "cell_type": "markdown",
   "metadata": {},
   "source": [
    "### Covid dataset"
   ]
  },
  {
   "cell_type": "code",
   "execution_count": 475,
   "metadata": {},
   "outputs": [
    {
     "data": {
      "text/html": [
       "<div>\n",
       "<style scoped>\n",
       "    .dataframe tbody tr th:only-of-type {\n",
       "        vertical-align: middle;\n",
       "    }\n",
       "\n",
       "    .dataframe tbody tr th {\n",
       "        vertical-align: top;\n",
       "    }\n",
       "\n",
       "    .dataframe thead th {\n",
       "        text-align: right;\n",
       "    }\n",
       "</style>\n",
       "<table border=\"1\" class=\"dataframe\">\n",
       "  <thead>\n",
       "    <tr style=\"text-align: right;\">\n",
       "      <th></th>\n",
       "      <th>Date</th>\n",
       "      <th>Country</th>\n",
       "      <th>Cases</th>\n",
       "      <th>Deaths</th>\n",
       "    </tr>\n",
       "  </thead>\n",
       "  <tbody>\n",
       "    <tr>\n",
       "      <th>0</th>\n",
       "      <td>2020-01-22</td>\n",
       "      <td>Thailand</td>\n",
       "      <td>2</td>\n",
       "      <td>0</td>\n",
       "    </tr>\n",
       "    <tr>\n",
       "      <th>1</th>\n",
       "      <td>2020-01-22</td>\n",
       "      <td>Japan</td>\n",
       "      <td>2</td>\n",
       "      <td>0</td>\n",
       "    </tr>\n",
       "    <tr>\n",
       "      <th>2</th>\n",
       "      <td>2020-01-22</td>\n",
       "      <td>Singapore</td>\n",
       "      <td>0</td>\n",
       "      <td>0</td>\n",
       "    </tr>\n",
       "    <tr>\n",
       "      <th>3</th>\n",
       "      <td>2020-01-22</td>\n",
       "      <td>Nepal</td>\n",
       "      <td>0</td>\n",
       "      <td>0</td>\n",
       "    </tr>\n",
       "    <tr>\n",
       "      <th>4</th>\n",
       "      <td>2020-01-22</td>\n",
       "      <td>Malaysia</td>\n",
       "      <td>0</td>\n",
       "      <td>0</td>\n",
       "    </tr>\n",
       "  </tbody>\n",
       "</table>\n",
       "</div>"
      ],
      "text/plain": [
       "        Date    Country  Cases  Deaths\n",
       "0 2020-01-22   Thailand      2       0\n",
       "1 2020-01-22      Japan      2       0\n",
       "2 2020-01-22  Singapore      0       0\n",
       "3 2020-01-22      Nepal      0       0\n",
       "4 2020-01-22   Malaysia      0       0"
      ]
     },
     "execution_count": 475,
     "metadata": {},
     "output_type": "execute_result"
    }
   ],
   "source": [
    "# import csv \n",
    "covid = pd.read_csv('covid.csv', parse_dates=['Date'])\n",
    "\n",
    "# filter columns\n",
    "covid = covid[['Date', 'Country/Region', 'Confirmed', \n",
    "                   'Deaths']]\n",
    "\n",
    "# rename columns\n",
    "covid.columns = final_columns\n",
    "\n",
    "covid.head()"
   ]
  },
  {
   "cell_type": "markdown",
   "metadata": {},
   "source": [
    "### Sars dataset"
   ]
  },
  {
   "cell_type": "code",
   "execution_count": 476,
   "metadata": {},
   "outputs": [
    {
     "data": {
      "text/html": [
       "<div>\n",
       "<style scoped>\n",
       "    .dataframe tbody tr th:only-of-type {\n",
       "        vertical-align: middle;\n",
       "    }\n",
       "\n",
       "    .dataframe tbody tr th {\n",
       "        vertical-align: top;\n",
       "    }\n",
       "\n",
       "    .dataframe thead th {\n",
       "        text-align: right;\n",
       "    }\n",
       "</style>\n",
       "<table border=\"1\" class=\"dataframe\">\n",
       "  <thead>\n",
       "    <tr style=\"text-align: right;\">\n",
       "      <th></th>\n",
       "      <th>Date</th>\n",
       "      <th>Country</th>\n",
       "      <th>Cases</th>\n",
       "      <th>Deaths</th>\n",
       "    </tr>\n",
       "  </thead>\n",
       "  <tbody>\n",
       "    <tr>\n",
       "      <th>0</th>\n",
       "      <td>2003-03-17</td>\n",
       "      <td>Germany</td>\n",
       "      <td>1</td>\n",
       "      <td>0</td>\n",
       "    </tr>\n",
       "    <tr>\n",
       "      <th>1</th>\n",
       "      <td>2003-03-17</td>\n",
       "      <td>Canada</td>\n",
       "      <td>8</td>\n",
       "      <td>2</td>\n",
       "    </tr>\n",
       "    <tr>\n",
       "      <th>2</th>\n",
       "      <td>2003-03-17</td>\n",
       "      <td>Singapore</td>\n",
       "      <td>20</td>\n",
       "      <td>0</td>\n",
       "    </tr>\n",
       "    <tr>\n",
       "      <th>3</th>\n",
       "      <td>2003-03-17</td>\n",
       "      <td>Hong Kong SAR, China</td>\n",
       "      <td>95</td>\n",
       "      <td>1</td>\n",
       "    </tr>\n",
       "    <tr>\n",
       "      <th>4</th>\n",
       "      <td>2003-03-17</td>\n",
       "      <td>Switzerland</td>\n",
       "      <td>2</td>\n",
       "      <td>0</td>\n",
       "    </tr>\n",
       "  </tbody>\n",
       "</table>\n",
       "</div>"
      ],
      "text/plain": [
       "        Date               Country  Cases  Deaths\n",
       "0 2003-03-17               Germany      1       0\n",
       "1 2003-03-17                Canada      8       2\n",
       "2 2003-03-17             Singapore     20       0\n",
       "3 2003-03-17  Hong Kong SAR, China     95       1\n",
       "4 2003-03-17           Switzerland      2       0"
      ]
     },
     "execution_count": 476,
     "metadata": {},
     "output_type": "execute_result"
    }
   ],
   "source": [
    "# import csv\n",
    "sars = pd.read_csv('sars.csv', parse_dates=['Date'])\n",
    "\n",
    "# filter columns\n",
    "sars = sars[['Date', 'Country', 'Cumulative number of case(s)', \n",
    "                   'Number of deaths']]\n",
    "\n",
    "# rename columns\n",
    "sars.columns = final_columns\n",
    "\n",
    "sars.head()"
   ]
  },
  {
   "cell_type": "markdown",
   "metadata": {},
   "source": [
    "### H1N1 dataset"
   ]
  },
  {
   "cell_type": "code",
   "execution_count": 477,
   "metadata": {},
   "outputs": [
    {
     "data": {
      "text/html": [
       "<div>\n",
       "<style scoped>\n",
       "    .dataframe tbody tr th:only-of-type {\n",
       "        vertical-align: middle;\n",
       "    }\n",
       "\n",
       "    .dataframe tbody tr th {\n",
       "        vertical-align: top;\n",
       "    }\n",
       "\n",
       "    .dataframe thead th {\n",
       "        text-align: right;\n",
       "    }\n",
       "</style>\n",
       "<table border=\"1\" class=\"dataframe\">\n",
       "  <thead>\n",
       "    <tr style=\"text-align: right;\">\n",
       "      <th></th>\n",
       "      <th>Date</th>\n",
       "      <th>Country</th>\n",
       "      <th>Cases</th>\n",
       "      <th>Deaths</th>\n",
       "    </tr>\n",
       "  </thead>\n",
       "  <tbody>\n",
       "    <tr>\n",
       "      <th>1821</th>\n",
       "      <td>2009-05-23 08:00:00</td>\n",
       "      <td>Grand Total</td>\n",
       "      <td>12022</td>\n",
       "      <td>86.0</td>\n",
       "    </tr>\n",
       "    <tr>\n",
       "      <th>1796</th>\n",
       "      <td>2009-05-23 08:00:00</td>\n",
       "      <td>Guatemala</td>\n",
       "      <td>4</td>\n",
       "      <td>0.0</td>\n",
       "    </tr>\n",
       "    <tr>\n",
       "      <th>1795</th>\n",
       "      <td>2009-05-23 08:00:00</td>\n",
       "      <td>Greece</td>\n",
       "      <td>1</td>\n",
       "      <td>0.0</td>\n",
       "    </tr>\n",
       "    <tr>\n",
       "      <th>1794</th>\n",
       "      <td>2009-05-23 08:00:00</td>\n",
       "      <td>Germany</td>\n",
       "      <td>17</td>\n",
       "      <td>0.0</td>\n",
       "    </tr>\n",
       "    <tr>\n",
       "      <th>1793</th>\n",
       "      <td>2009-05-23 08:00:00</td>\n",
       "      <td>France</td>\n",
       "      <td>16</td>\n",
       "      <td>0.0</td>\n",
       "    </tr>\n",
       "  </tbody>\n",
       "</table>\n",
       "</div>"
      ],
      "text/plain": [
       "                    Date      Country  Cases  Deaths\n",
       "1821 2009-05-23 08:00:00  Grand Total  12022    86.0\n",
       "1796 2009-05-23 08:00:00    Guatemala      4     0.0\n",
       "1795 2009-05-23 08:00:00       Greece      1     0.0\n",
       "1794 2009-05-23 08:00:00      Germany     17     0.0\n",
       "1793 2009-05-23 08:00:00       France     16     0.0"
      ]
     },
     "execution_count": 477,
     "metadata": {},
     "output_type": "execute_result"
    }
   ],
   "source": [
    "# import csv\n",
    "h1n1 = pd.read_csv('h1n1.csv', encoding= 'unicode_escape', parse_dates=['Update Time'])\n",
    "\n",
    "# filter columns\n",
    "h1n1 = h1n1[['Update Time', 'Country', 'Cases', \n",
    "                   'Deaths']]\n",
    "\n",
    "# replace nan for 0\n",
    "h1n1 = h1n1.replace(np.nan, 0)\n",
    "\n",
    "# rename columns\n",
    "h1n1.columns = final_columns\n",
    "\n",
    "# sorting \n",
    "h1n1.sort_values(by=['Date'], inplace=True, ascending=True)\n",
    "\n",
    "h1n1.head()"
   ]
  },
  {
   "cell_type": "markdown",
   "metadata": {},
   "source": [
    "### Ebola"
   ]
  },
  {
   "cell_type": "code",
   "execution_count": 478,
   "metadata": {},
   "outputs": [
    {
     "data": {
      "text/html": [
       "<div>\n",
       "<style scoped>\n",
       "    .dataframe tbody tr th:only-of-type {\n",
       "        vertical-align: middle;\n",
       "    }\n",
       "\n",
       "    .dataframe tbody tr th {\n",
       "        vertical-align: top;\n",
       "    }\n",
       "\n",
       "    .dataframe thead th {\n",
       "        text-align: right;\n",
       "    }\n",
       "</style>\n",
       "<table border=\"1\" class=\"dataframe\">\n",
       "  <thead>\n",
       "    <tr style=\"text-align: right;\">\n",
       "      <th></th>\n",
       "      <th>Date</th>\n",
       "      <th>Country</th>\n",
       "      <th>Cases</th>\n",
       "      <th>Deaths</th>\n",
       "    </tr>\n",
       "  </thead>\n",
       "  <tbody>\n",
       "    <tr>\n",
       "      <th>0</th>\n",
       "      <td>2014-08-29</td>\n",
       "      <td>Guinea</td>\n",
       "      <td>482.0</td>\n",
       "      <td>287.0</td>\n",
       "    </tr>\n",
       "    <tr>\n",
       "      <th>1</th>\n",
       "      <td>2014-08-29</td>\n",
       "      <td>Nigeria</td>\n",
       "      <td>15.0</td>\n",
       "      <td>6.0</td>\n",
       "    </tr>\n",
       "    <tr>\n",
       "      <th>2</th>\n",
       "      <td>2014-08-29</td>\n",
       "      <td>Sierra Leone</td>\n",
       "      <td>935.0</td>\n",
       "      <td>380.0</td>\n",
       "    </tr>\n",
       "    <tr>\n",
       "      <th>3</th>\n",
       "      <td>2014-08-29</td>\n",
       "      <td>Liberia</td>\n",
       "      <td>322.0</td>\n",
       "      <td>225.0</td>\n",
       "    </tr>\n",
       "    <tr>\n",
       "      <th>4</th>\n",
       "      <td>2014-09-05</td>\n",
       "      <td>Sierra Leone</td>\n",
       "      <td>1146.0</td>\n",
       "      <td>443.0</td>\n",
       "    </tr>\n",
       "  </tbody>\n",
       "</table>\n",
       "</div>"
      ],
      "text/plain": [
       "        Date       Country   Cases  Deaths\n",
       "0 2014-08-29        Guinea   482.0   287.0\n",
       "1 2014-08-29       Nigeria    15.0     6.0\n",
       "2 2014-08-29  Sierra Leone   935.0   380.0\n",
       "3 2014-08-29       Liberia   322.0   225.0\n",
       "4 2014-09-05  Sierra Leone  1146.0   443.0"
      ]
     },
     "execution_count": 478,
     "metadata": {},
     "output_type": "execute_result"
    }
   ],
   "source": [
    "ebola = pd.read_csv('ebola.csv', parse_dates=['Date'])\n",
    "\n",
    "# filter columns\n",
    "ebola = ebola[['Date', 'Country', 'No. of confirmed cases', 'No. of confirmed deaths']]\n",
    "\n",
    "# rename columns\n",
    "ebola.columns = final_columns\n",
    "\n",
    "# replace nan for 0\n",
    "ebola = ebola.replace(np.nan, 0)\n",
    "\n",
    "# sorting \n",
    "ebola.sort_values(by=['Date'], inplace=True, ascending=True)\n",
    "\n",
    "ebola.head()"
   ]
  },
  {
   "cell_type": "markdown",
   "metadata": {},
   "source": [
    "### Putting all togheter"
   ]
  },
  {
   "cell_type": "code",
   "execution_count": 479,
   "metadata": {},
   "outputs": [
    {
     "data": {
      "text/html": [
       "<div>\n",
       "<style scoped>\n",
       "    .dataframe tbody tr th:only-of-type {\n",
       "        vertical-align: middle;\n",
       "    }\n",
       "\n",
       "    .dataframe tbody tr th {\n",
       "        vertical-align: top;\n",
       "    }\n",
       "\n",
       "    .dataframe thead th {\n",
       "        text-align: right;\n",
       "    }\n",
       "</style>\n",
       "<table border=\"1\" class=\"dataframe\">\n",
       "  <thead>\n",
       "    <tr style=\"text-align: right;\">\n",
       "      <th></th>\n",
       "      <th>virus</th>\n",
       "      <th>cases</th>\n",
       "      <th>deaths</th>\n",
       "      <th>countries</th>\n",
       "      <th>mortality</th>\n",
       "    </tr>\n",
       "  </thead>\n",
       "  <tbody>\n",
       "    <tr>\n",
       "      <th>0</th>\n",
       "      <td>COVID</td>\n",
       "      <td>2852138.0</td>\n",
       "      <td>87375.0</td>\n",
       "      <td>114</td>\n",
       "      <td>3.06</td>\n",
       "    </tr>\n",
       "    <tr>\n",
       "      <th>1</th>\n",
       "      <td>SARS</td>\n",
       "      <td>556360.0</td>\n",
       "      <td>45209.0</td>\n",
       "      <td>37</td>\n",
       "      <td>8.13</td>\n",
       "    </tr>\n",
       "    <tr>\n",
       "      <th>2</th>\n",
       "      <td>H1N1</td>\n",
       "      <td>1641738.0</td>\n",
       "      <td>7859.0</td>\n",
       "      <td>152</td>\n",
       "      <td>0.48</td>\n",
       "    </tr>\n",
       "    <tr>\n",
       "      <th>3</th>\n",
       "      <td>EBOLA</td>\n",
       "      <td>3568555.0</td>\n",
       "      <td>1288179.0</td>\n",
       "      <td>10</td>\n",
       "      <td>36.10</td>\n",
       "    </tr>\n",
       "  </tbody>\n",
       "</table>\n",
       "</div>"
      ],
      "text/plain": [
       "   virus      cases     deaths  countries  mortality\n",
       "0  COVID  2852138.0    87375.0        114       3.06\n",
       "1   SARS   556360.0    45209.0         37       8.13\n",
       "2   H1N1  1641738.0     7859.0        152       0.48\n",
       "3  EBOLA  3568555.0  1288179.0         10      36.10"
      ]
     },
     "execution_count": 479,
     "metadata": {},
     "output_type": "execute_result"
    }
   ],
   "source": [
    "covid_cases = sum(covid['Cases'])\n",
    "sars_cases = sum(sars['Cases'])\n",
    "h1n1_cases = sum(h1n1['Cases'])\n",
    "ebola_cases = sum(ebola['Cases'])\n",
    "\n",
    "covid_deaths = sum(covid['Deaths'])\n",
    "sars_deaths = sum(sars['Deaths'])\n",
    "h1n1_deaths = sum(h1n1['Deaths'])\n",
    "ebola_deaths = sum(ebola['Deaths'])\n",
    "\n",
    "covid_countries = len(covid['Country'].value_counts())\n",
    "sars_countries = len(sars['Country'].value_counts())\n",
    "h1n1_countries = len(h1n1['Country'].value_counts())\n",
    "ebola_countries = len(ebola['Country'].value_counts())\n",
    "\n",
    "all_virus = pd.DataFrame({\n",
    "    'virus' : ['COVID', 'SARS', 'H1N1', 'EBOLA'],\n",
    "    'cases': [covid_cases, sars_cases, h1n1_cases, ebola_cases],\n",
    "    'deaths' : [covid_deaths, sars_deaths, h1n1_deaths, ebola_deaths],\n",
    "    'countries': [covid_countries, sars_countries, h1n1_countries, ebola_countries]\n",
    "})\n",
    "\n",
    "all_virus['mortality'] = round((all_virus['deaths']/all_virus['cases'])*100, 2)\n",
    "\n",
    "all_virus.head()"
   ]
  },
  {
   "cell_type": "markdown",
   "metadata": {},
   "source": [
    "### Mortality"
   ]
  },
  {
   "cell_type": "code",
   "execution_count": 480,
   "metadata": {},
   "outputs": [
    {
     "data": {
      "image/png": "[encoded data removed]",
      "text/plain": [
       "<Figure size 432x288 with 1 Axes>"
      ]
     },
     "metadata": {},
     "output_type": "display_data"
    }
   ],
   "source": [
    "plt.bar(all_virus['virus'], all_virus['mortality'], color=colors)\n",
    "plt.title('Mortality')\n",
    "plt.show()"
   ]
  },
  {
   "cell_type": "markdown",
   "metadata": {},
   "source": [
    "### Countries"
   ]
  },
  {
   "cell_type": "code",
   "execution_count": 481,
   "metadata": {},
   "outputs": [
    {
     "data": {
      "image/png": "[encoded data removed]",
      "text/plain": [
       "<Figure size 432x288 with 1 Axes>"
      ]
     },
     "metadata": {},
     "output_type": "display_data"
    }
   ],
   "source": [
    "plt.bar(all_virus['virus'], all_virus['countries'], color=colors)\n",
    "plt.title('Number of Countries')\n",
    "plt.show()"
   ]
  },
  {
   "cell_type": "markdown",
   "metadata": {},
   "source": [
    "### Propagation "
   ]
  },
  {
   "cell_type": "markdown",
   "metadata": {},
   "source": [
    "##### Functions"
   ]
  },
  {
   "cell_type": "code",
   "execution_count": 482,
   "metadata": {},
   "outputs": [],
   "source": [
    "def group_cases_by_date(df):\n",
    "    return df.groupby(df['Date'])['Cases'].sum().reset_index()\n",
    "    \n",
    "def plot(df):\n",
    "    plt.title('Dissemination by Day')\n",
    "    plt.plot(df['Date'], df['Cases'])\n",
    "    \n",
    "    \n",
    "# mean of propagation per day func\n",
    "def increasing_mean(df, column):\n",
    "    percentages = []\n",
    "    for index, row in df.iterrows(): \n",
    "        if(index > 0):     \n",
    "            increase = row[column] - last_row[column]   \n",
    "            percentage = round(increase / last_row[column] * 100, 2)\n",
    "            percentages.append(percentage) \n",
    "        \n",
    "        last_row = row\n",
    "        \n",
    "    return np.mean(percentages)"
   ]
  },
  {
   "cell_type": "markdown",
   "metadata": {},
   "source": [
    "#### Covid Propagation"
   ]
  },
  {
   "cell_type": "code",
   "execution_count": 483,
   "metadata": {},
   "outputs": [
    {
     "data": {
      "image/png": "[encoded data removed]",
      "text/plain": [
       "<Figure size 432x288 with 1 Axes>"
      ]
     },
     "metadata": {},
     "output_type": "display_data"
    }
   ],
   "source": [
    "# Covid propagation\n",
    "c_date = group_cases_by_date(covid)\n",
    "plot(c_date)"
   ]
  },
  {
   "cell_type": "markdown",
   "metadata": {},
   "source": [
    "#### Sars Propagation"
   ]
  },
  {
   "cell_type": "code",
   "execution_count": 484,
   "metadata": {},
   "outputs": [
    {
     "data": {
      "image/png": "[encoded data removed]",
      "text/plain": [
       "<Figure size 432x288 with 1 Axes>"
      ]
     },
     "metadata": {},
     "output_type": "display_data"
    }
   ],
   "source": [
    "# Sars dissemination\n",
    "s_date = group_cases_by_date(sars)\n",
    "plot(s_date)"
   ]
  },
  {
   "cell_type": "markdown",
   "metadata": {},
   "source": [
    "#### H1N1 Propagation"
   ]
  },
  {
   "cell_type": "code",
   "execution_count": 485,
   "metadata": {},
   "outputs": [
    {
     "data": {
      "image/png": "[encoded data removed]",
      "text/plain": [
       "<Figure size 432x288 with 1 Axes>"
      ]
     },
     "metadata": {},
     "output_type": "display_data"
    }
   ],
   "source": [
    "# H1n1 dissemination\n",
    "h_date = group_cases_by_date(h1n1)\n",
    "plot(h_date)"
   ]
  },
  {
   "cell_type": "markdown",
   "metadata": {},
   "source": [
    "#### Ebola Propagation"
   ]
  },
  {
   "cell_type": "code",
   "execution_count": 486,
   "metadata": {},
   "outputs": [
    {
     "data": {
      "image/png": "[encoded data removed]",
      "text/plain": [
       "<Figure size 432x288 with 1 Axes>"
      ]
     },
     "metadata": {},
     "output_type": "display_data"
    }
   ],
   "source": [
    "# Ebola propagation\n",
    "e_date = group_cases_by_date(ebola)\n",
    "plot(e_date)"
   ]
  },
  {
   "cell_type": "markdown",
   "metadata": {},
   "source": [
    "### Comparing propagation mean"
   ]
  },
  {
   "cell_type": "code",
   "execution_count": 487,
   "metadata": {},
   "outputs": [
    {
     "data": {
      "text/html": [
       "<div>\n",
       "<style scoped>\n",
       "    .dataframe tbody tr th:only-of-type {\n",
       "        vertical-align: middle;\n",
       "    }\n",
       "\n",
       "    .dataframe tbody tr th {\n",
       "        vertical-align: top;\n",
       "    }\n",
       "\n",
       "    .dataframe thead th {\n",
       "        text-align: right;\n",
       "    }\n",
       "</style>\n",
       "<table border=\"1\" class=\"dataframe\">\n",
       "  <thead>\n",
       "    <tr style=\"text-align: right;\">\n",
       "      <th></th>\n",
       "      <th>virus</th>\n",
       "      <th>mean</th>\n",
       "    </tr>\n",
       "  </thead>\n",
       "  <tbody>\n",
       "    <tr>\n",
       "      <th>0</th>\n",
       "      <td>COVID</td>\n",
       "      <td>12.880612</td>\n",
       "    </tr>\n",
       "    <tr>\n",
       "      <th>1</th>\n",
       "      <td>SARS</td>\n",
       "      <td>5.057895</td>\n",
       "    </tr>\n",
       "    <tr>\n",
       "      <th>2</th>\n",
       "      <td>H1N1</td>\n",
       "      <td>12.818095</td>\n",
       "    </tr>\n",
       "    <tr>\n",
       "      <th>3</th>\n",
       "      <td>EBOLA</td>\n",
       "      <td>0.913295</td>\n",
       "    </tr>\n",
       "  </tbody>\n",
       "</table>\n",
       "</div>"
      ],
      "text/plain": [
       "   virus       mean\n",
       "0  COVID  12.880612\n",
       "1   SARS   5.057895\n",
       "2   H1N1  12.818095\n",
       "3  EBOLA   0.913295"
      ]
     },
     "execution_count": 487,
     "metadata": {},
     "output_type": "execute_result"
    }
   ],
   "source": [
    "c_mean_prop = increasing_mean(c_date, 'Cases')\n",
    "s_mean_prop = increasing_mean(s_date, 'Cases')\n",
    "h_mean_prop = increasing_mean(h_date, 'Cases')\n",
    "e_mean_prop = increasing_mean(e_date, 'Cases')\n",
    "\n",
    "comparing_propagation_mean = pd.DataFrame({\n",
    "    'virus' : ['COVID', 'SARS', 'H1N1', 'EBOLA'],\n",
    "    'mean': [c_mean_prop, s_mean_prop, h_mean_prop, e_mean_prop]\n",
    "})\n",
    "\n",
    "comparing_propagation_mean.head()"
   ]
  },
  {
   "cell_type": "code",
   "execution_count": 488,
   "metadata": {},
   "outputs": [
    {
     "data": {
      "image/png": "[encoded data removed]",
      "text/plain": [
       "<Figure size 432x288 with 1 Axes>"
      ]
     },
     "metadata": {},
     "output_type": "display_data"
    }
   ],
   "source": [
    "plt.bar(comparing_propagation_mean['virus'], comparing_propagation_mean['mean'], color=colors)\n",
    "plt.title('Propagation Mean')\n",
    "plt.show()"
   ]
  }
 ],
 "metadata": {
  "kernelspec": {
   "display_name": "Python 3",
   "language": "python",
   "name": "python3"
  },
  "language_info": {
   "codemirror_mode": {
    "name": "ipython",
    "version": 3
   },
   "file_extension": ".py",
   "mimetype": "text/x-python",
   "name": "python",
   "nbconvert_exporter": "python",
   "pygments_lexer": "ipython3",
   "version": "3.7.6"
  }
 },
 "nbformat": 4,
 "nbformat_minor": 4
}
